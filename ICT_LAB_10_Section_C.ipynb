{
  "cells": [
    {
      "cell_type": "markdown",
      "metadata": {
        "id": "view-in-github",
        "colab_type": "text"
      },
      "source": [
        "<a href=\"https://colab.research.google.com/github/Muhammad-Hasnat-Chaudhary/TEST/blob/main/ICT_LAB_10_Section_C.ipynb\" target=\"_parent\"><img src=\"https://colab.research.google.com/assets/colab-badge.svg\" alt=\"Open In Colab\"/></a>"
      ]
    },
    {
      "cell_type": "markdown",
      "metadata": {
        "id": "9O3ocD5rXSon"
      },
      "source": [
        "# **Python Lab: Introduction to Basic Concepts**\n",
        "\n",
        "Welcome to the Python lab session. In this lab, we will cover the foundational concepts of Python programming and Numpy library, including input/output operations, variables, basic arithmetic operations, lists, loops, operators, functions, arrays, matrices, slicing, dot product, etc. Understanding these concepts is crucial for building a strong foundation in Python programming."
      ]
    },
    {
      "cell_type": "markdown",
      "source": [],
      "metadata": {
        "id": "FmQcQXIvdEOY"
      }
    },
    {
      "cell_type": "markdown",
      "metadata": {
        "id": "e0avcbtdpOsB"
      },
      "source": [
        "# **Submission:**\n",
        "1. Make a new word or google doc file.\n",
        "\n",
        "2. Solve all of the **\"Do It Yourself\"** (9) questions.\n",
        "\n",
        "3. Take a screenshot of output of each of the question.\n",
        "\n",
        "4. Paste it in the word or google doc file and mention the Do It Yourself question number.\n",
        "\n",
        "5. Rename the file as: RollNumber_Lab11.pdf and save it in your computer/laptop. (only pdf file is allowed for submission)\n",
        "\n",
        "6. Download this .ipynb file and rename as RollNumber_lab11.ipynb (You can download this file by following these steps: File -> Download -> Download .ipynb)\n",
        "\n",
        "## Submission Files:\n",
        "Attach the following files in your submission:\n",
        "* PDF file with all the outputs of Do It Yourself questions.\n",
        "* ipynb file with all the code.  "
      ]
    },
    {
      "cell_type": "markdown",
      "metadata": {
        "id": "ug67dj4LXfao"
      },
      "source": [
        "###**Section 1: Input and Output**\n",
        "\n",
        "Introduction: Input is how you get data into your program. This could be from a user typing on a keyboard or from a file. Output is how your program displays data back to the user. This could be printing text to the screen or writing data to a file.\n",
        "\n",
        "Usage: Use the input() function to take input from the user and print() function to display the output."
      ]
    },
    {
      "cell_type": "code",
      "execution_count": null,
      "metadata": {
        "id": "gKGn17R_XMyO"
      },
      "outputs": [],
      "source": [
        "# Taking input from the user\n",
        "name = input(\"Enter your name: \")\n",
        "\n",
        "# Printing output to the screen\n",
        "print(\"Hello, \" + name + \"!\")\n"
      ]
    },
    {
      "cell_type": "code",
      "execution_count": null,
      "metadata": {
        "id": "MABzeoqwkQvx"
      },
      "outputs": [],
      "source": [
        "# Taking input from the user\n",
        "age = input(\"Enter your age: \")\n",
        "#age = int(input(\"Enter your age: \"))\n",
        "age = int(age)\n",
        "# Printing output to the screen\n",
        "print(\"Your age is: \" + str(age) + \" years\")"
      ]
    },
    {
      "cell_type": "markdown",
      "metadata": {
        "id": "yKFp422MX3wI"
      },
      "source": [
        "### **Section 2: Variables and Basic Arithmetic Operations**\n",
        "\n",
        "Introduction: Variables are used to store information to be referenced and manipulated in a program. Basic arithmetic operations include addition (+), subtraction (-), multiplication (*), and division (/).\n",
        "\n",
        "Usage: Assign values to variables and perform arithmetic operations."
      ]
    },
    {
      "cell_type": "code",
      "execution_count": null,
      "metadata": {
        "id": "rjLKs7yWYFcA"
      },
      "outputs": [],
      "source": [
        "# Variables and Arithmetic Operations\n",
        "a = 10\n",
        "b = 5\n",
        "\n",
        "# Addition\n",
        "c = a + b\n",
        "print(\"Addition:\", c)\n",
        "\n",
        "# Subtraction\n",
        "d = a - b\n",
        "print(\"Subtraction:\", d)\n",
        "\n",
        "# Multiplication\n",
        "e = a * b\n",
        "print(\"Multiplication:\", e)\n",
        "\n",
        "# Division\n",
        "f = a / b\n",
        "print(\"Division:\", f)\n"
      ]
    },
    {
      "cell_type": "markdown",
      "metadata": {
        "id": "v6OXw1LBYck9"
      },
      "source": [
        "### **Section 3: Lists and Loops**\n",
        "\n",
        "Introduction: Lists are used to store multiple items in a single variable. Loops are used to iterate over a sequence of items.\n",
        "\n",
        "Usage: Create lists with different data types and use a loop with the range() function to iterate over them."
      ]
    },
    {
      "cell_type": "code",
      "execution_count": null,
      "metadata": {
        "id": "2ECdFO68YfGS"
      },
      "outputs": [],
      "source": [
        "# Lists with different data types\n",
        "number_list = [1, 2, 3, 4, 5]\n",
        "string_list = [\"apple\", \"banana\", \"cherry\"]\n",
        "float_list = [1.0, 2.0, 3.0]\n",
        "mixed_list = [1, \"apple\", 3.14]\n",
        "\n",
        "# Looping through a list\n",
        "\n",
        "#fixed size iterations\n",
        "size = 5\n",
        "for i in range(size):\n",
        "  print(i)\n",
        "print(\"-------------------------------------\")\n",
        "\n",
        "for i in range(size):\n",
        "  print(number_list[i])\n",
        "print(\"-------------------------------------\")\n",
        "\n",
        "#array's size iterations\n",
        "for i in range(len(string_list)):\n",
        "  print(string_list[i])\n",
        "print(\"-------------------------------------\")\n",
        "\n",
        "# direct iteration\n",
        "for item in mixed_list:\n",
        "  print(item)"
      ]
    },
    {
      "cell_type": "markdown",
      "metadata": {
        "id": "DiX4HnEtYkOg"
      },
      "source": [
        "##**Do It Yourself 1:**\n",
        "\n",
        "    Create a list of 5 cities and a list of respective countries of these cities. Now, print each city with its corresponding country.\n",
        "\n",
        "    Example Lists:\n",
        "    Cities = [Lahore, Delhi, Chicago]\n",
        "    Countries = [Pakistan, India, USA]\n",
        "    ------------------------------------------\n",
        "    Expected Output:\n",
        "    Lahore, Pakistan\n",
        "    Delhi, India\n",
        "    Chicago, USA\n"
      ]
    },
    {
      "cell_type": "code",
      "source": [
        "size = 4\n",
        "country = [\"Pakistan\", \"India\", \"China\",\"Iran\"]\n",
        "city = [\"Islamabad\", \"New Delhi\", \"Beijing\",\"Tehran\"]\n",
        "for i in range(size):\n",
        "  print(city[i],\" , \",country[i])\n",
        "print(\"-------------------------------------\")"
      ],
      "metadata": {
        "colab": {
          "base_uri": "https://localhost:8080/"
        },
        "id": "haUmTu2ednwW",
        "outputId": "f6cabb92-96fe-4495-ed10-fc624a13f68a"
      },
      "execution_count": 1,
      "outputs": [
        {
          "output_type": "stream",
          "name": "stdout",
          "text": [
            "Islamabad  ,  Pakistan\n",
            "New Delhi  ,  India\n",
            "Beijing  ,  China\n",
            "Tehran  ,  Iran\n",
            "-------------------------------------\n"
          ]
        }
      ]
    },
    {
      "cell_type": "code",
      "execution_count": null,
      "metadata": {
        "id": "Pk8tMg8xYm3r"
      },
      "outputs": [],
      "source": []
    },
    {
      "cell_type": "markdown",
      "metadata": {
        "id": "32LMMqciYqHv"
      },
      "source": [
        "### **Section 4: Operators**\n",
        "\n",
        "Introduction: Operators are used to perform operations on variables and values. Logical operators (and, or, not), membership operators (in, not in), and the exponent operator (**) are some of the operators in Python.\n",
        "\n",
        "Usage: Use these operators to perform logical operations, check for membership, and perform exponential calculations."
      ]
    },
    {
      "cell_type": "code",
      "execution_count": null,
      "metadata": {
        "id": "oK6_y-HTYtjx"
      },
      "outputs": [],
      "source": [
        "# Logical Operators\n",
        "print(True and False)  # Output: False\n",
        "print(True or False)   # Output: True\n",
        "print(not False)       # Output: True\n",
        "\n",
        "# Membership Operators\n",
        "print(\"apple\" in string_list)    # Output: True\n",
        "print(\"banana\" not in string_list)  # Output: False\n",
        "\n",
        "# Exponent Operator\n",
        "print(2 ** 3)  # Output: 8 (2 raised to the power of 3)\n"
      ]
    },
    {
      "cell_type": "markdown",
      "metadata": {
        "id": "-xw899gFY0AX"
      },
      "source": [
        "### **Section 5: Functions**\n",
        "\n",
        "Introduction: Functions are blocks of code that perform a specific task and can be reused in your program.\n",
        "\n",
        "Usage: Define functions with different parameters to perform calculations or operations."
      ]
    },
    {
      "cell_type": "code",
      "execution_count": null,
      "metadata": {
        "id": "WlZ1496QY3mj"
      },
      "outputs": [],
      "source": [
        "# Function to add two numbers\n",
        "def add_numbers(x, y):\n",
        "    return x + y\n",
        "\n",
        "# Function to subtract two numbers\n",
        "def subtract_numbers(x, y):\n",
        "    return x - y\n",
        "\n",
        "# Function to multiply two numbers\n",
        "def multiply_numbers(x, y):\n",
        "    return x * y\n",
        "\n",
        "# Function to divide two numbers\n",
        "def divide_numbers(x, y):\n",
        "    if y != 0:\n",
        "        return x / y\n",
        "    else:\n",
        "        return \"Cannot divide by zero!\"\n",
        "\n",
        "# Using functions\n",
        "print(add_numbers(10, 5))       # Output: 15\n",
        "print(subtract_numbers(10, 5))  # Output: 5\n",
        "print(multiply_numbers(10, 5))  # Output: 50\n",
        "print(divide_numbers(10, 5))    # Output: 2.0\n"
      ]
    },
    {
      "cell_type": "markdown",
      "metadata": {
        "id": "vb8iOw3yY9vZ"
      },
      "source": [
        "## **Do It Yourself 2:**\n",
        "   \n",
        "    Write a function that calculates the average of three numbers. Test the function with three numbers of your choice.\n",
        "        Expected Output: For numbers 4, 8, 15, the output should be 9.0.\n"
      ]
    },
    {
      "cell_type": "code",
      "source": [
        "def avg(n1,n2,n3):\n",
        "\n",
        " n1 = (n1+n2+n3)/3\n",
        " print('Average of above numbers are :',n1)\n",
        "\n",
        "\n",
        "n1 = int(input(\"Enter first number: \"))\n",
        "n2 = int(input(\"Enter second number: \"))\n",
        "n3 = int(input(\"Enter third number: \"))\n",
        "avg(n1,n2,n3)"
      ],
      "metadata": {
        "colab": {
          "base_uri": "https://localhost:8080/"
        },
        "id": "FjO1QMU1fVCF",
        "outputId": "54cd0ebf-1cdb-48b0-f6c3-312e6d8d7902"
      },
      "execution_count": 2,
      "outputs": [
        {
          "output_type": "stream",
          "name": "stdout",
          "text": [
            "Enter first number: 12\n",
            "Enter second number: 24\n",
            "Enter third number: 3\n",
            "Average of above numbers are : 13.0\n"
          ]
        }
      ]
    },
    {
      "cell_type": "code",
      "execution_count": null,
      "metadata": {
        "id": "2BE09TSmZtrd"
      },
      "outputs": [],
      "source": []
    },
    {
      "cell_type": "markdown",
      "metadata": {
        "id": "5M23_MAzZZUB"
      },
      "source": [
        "## **Do It Yourself 3:**    \n",
        "    Create a function that determines whether a given number is even or odd. Print an appropriate message to the screen.\n",
        "        Expected Output: For the number 7, the function should print \"7 is odd\"."
      ]
    },
    {
      "cell_type": "code",
      "execution_count": null,
      "metadata": {
        "id": "rkaUrzB4ZuKv"
      },
      "outputs": [],
      "source": []
    },
    {
      "cell_type": "code",
      "source": [
        "n1 = int(input(\"Enter first number: \"))\n",
        "\n",
        "if (n1%2==0):\n",
        "  print(\"the number is even\")\n",
        "else:\n",
        "    print(\"the number is odd\")"
      ],
      "metadata": {
        "colab": {
          "base_uri": "https://localhost:8080/"
        },
        "id": "3IYcMb5Of__A",
        "outputId": "b87683ef-7ca1-45d7-bd71-dacfe0dc6634"
      },
      "execution_count": 5,
      "outputs": [
        {
          "output_type": "stream",
          "name": "stdout",
          "text": [
            "Enter first number: 11\n",
            "the number is odd\n"
          ]
        }
      ]
    },
    {
      "cell_type": "markdown",
      "metadata": {
        "id": "p42J0uIYZd61"
      },
      "source": [
        "## **Do It Yourself 4:**\n",
        "    Write a function that takes a list of numbers and returns the largest number in the list using loops.\n",
        "        Expected Output: For the list [3, 6, 2, 8, 4], the function should return 8."
      ]
    },
    {
      "cell_type": "code",
      "execution_count": 12,
      "metadata": {
        "id": "jjVKoeIiZuqS",
        "colab": {
          "base_uri": "https://localhost:8080/"
        },
        "outputId": "a77c974c-8d8c-457b-e731-3d98a506ea87"
      },
      "outputs": [
        {
          "output_type": "stream",
          "name": "stdout",
          "text": [
            "Largest Number 3214\n"
          ]
        }
      ],
      "source": [
        "def find_largest_number(numbers):\n",
        "    large = 0.0\n",
        "    for n in range(len(numbers)):\n",
        "        if (large < numbers[n]):\n",
        "            large = numbers[n]\n",
        "\n",
        "    print(\"Largest Number\", large)\n",
        "\n",
        "list = [11, 213, 123, 1434, 3214, 324, 234, -10]\n",
        "find_largest_number(list)"
      ]
    },
    {
      "cell_type": "markdown",
      "metadata": {
        "id": "Up6xe3maZhGc"
      },
      "source": [
        "## **Do It Yourself 5:**\n",
        "    Write a function which takes 3 parameters, X, Y, and A. And returns the output as a single number after calculating it using the following equation.\n",
        "    X^2 + y^4 + A"
      ]
    },
    {
      "cell_type": "code",
      "execution_count": 7,
      "metadata": {
        "id": "D6X_AG-_ZvEo",
        "colab": {
          "base_uri": "https://localhost:8080/"
        },
        "outputId": "d0d70fbe-66c7-4267-fc70-f86288be4fe2"
      },
      "outputs": [
        {
          "output_type": "stream",
          "name": "stdout",
          "text": [
            "Enter first number: 2\n",
            "Enter second number: 3\n",
            "Enter third number: 11\n",
            "Answer of above numbers is: 96\n"
          ]
        }
      ],
      "source": [
        "X = int(input(\"Enter first number: \"))\n",
        "Y = int(input(\"Enter second number: \"))\n",
        "A = int(input(\"Enter third number: \"))\n",
        "\n",
        "ans = ((X*X)+(Y*Y*Y*Y)+A)\n",
        "\n",
        "print('Answer of above numbers is:', ans)\n"
      ]
    },
    {
      "cell_type": "markdown",
      "metadata": {
        "id": "cLVCBH1PZnUy"
      },
      "source": [
        "## **Do It Yourself 6:**\n",
        "    Create a function that accepts a list and a number and returns the number of times the number appears in the list.\n",
        "        Expected Output: For the list [1, 4, 6, 7, 4, 4, 3] and the number 4, the function should return 3."
      ]
    },
    {
      "cell_type": "code",
      "execution_count": 11,
      "metadata": {
        "id": "TI_fjQTqZv3-",
        "colab": {
          "base_uri": "https://localhost:8080/"
        },
        "outputId": "1e239e9f-26d9-41af-fc68-cb150f79cc23"
      },
      "outputs": [
        {
          "output_type": "stream",
          "name": "stdout",
          "text": [
            "The number 4 appears 3 times in the list.\n"
          ]
        }
      ],
      "source": [
        "\n",
        "def count_occurrences(lst, number):\n",
        "    return lst.count(number)\n",
        "\n",
        "\n",
        "my_list = [1, 4, 6, 7, 4, 4, 3]\n",
        "target_number = 4\n",
        "\n",
        "result = count_occurrences(my_list, target_number)\n",
        "print(f'The number {target_number} appears {result} times in the list.')"
      ]
    },
    {
      "cell_type": "markdown",
      "metadata": {
        "id": "DvQ53ZitdxaO"
      },
      "source": [
        "# **Part 2**"
      ]
    },
    {
      "cell_type": "markdown",
      "metadata": {
        "id": "oQx40BiEdOno"
      },
      "source": [
        "This part is focused on NumPy, a fundamental package for scientific computing in Python. NumPy provides support for arrays and matrices, along with a collection of mathematical functions to operate on these data structures. In this lab, we will cover the basics of NumPy, including array creation, array operations, slicing, and file operations.\n",
        "Section 1: Array Creation\n",
        "\n",
        "</br>\n",
        "\n",
        "**Introduction**: NumPy arrays are n-dimensional array objects and are the main way to store data in NumPy. They are more efficient than Python lists for numerical operations.\n",
        "\n",
        "Usage: Create arrays from Python lists, and initialize arrays with zeros, ones, or random values."
      ]
    },
    {
      "cell_type": "code",
      "execution_count": null,
      "metadata": {
        "id": "9haLY0ntd90L"
      },
      "outputs": [],
      "source": [
        "import numpy as np\n",
        "\n",
        "# Create a NumPy array from a list of integers\n",
        "list_of_integers = [1, 21, 3, 43, 5]\n",
        "numpy_array = np.array(list_of_integers)\n",
        "\n",
        "# Print the NumPy array\n",
        "print(numpy_array)\n"
      ]
    },
    {
      "cell_type": "markdown",
      "metadata": {
        "id": "Qy5f3ScGlJ8R"
      },
      "source": [
        "### **Some very useful numpy functions:**\n",
        "\n",
        "1.   Min\n",
        "2.   Max\n",
        "3.   Average (Mean)\n",
        "4.   Sort\n"
      ]
    },
    {
      "cell_type": "code",
      "execution_count": null,
      "metadata": {
        "id": "1fIvtBsblI5x"
      },
      "outputs": [],
      "source": [
        "# Finding the minimum values from the numpy array\n",
        "min_val = np.min(numpy_array)\n",
        "print(\"Minimum Value: \",min_val)\n",
        "# Finding the maximum values from the numpy array\n",
        "max_val = np.max(numpy_array)\n",
        "print(\"Maximum Value: \",max_val)\n",
        "# Sorting the values of numpy array\n",
        "sorted_array = np.sort(numpy_array)\n",
        "print(\"Sorted Array: \",sorted_array)\n",
        "# Finding the mean (average) of the numpy array\n",
        "mean_val = np.mean(numpy_array)\n",
        "print(\"Mean Value: \",mean_val)"
      ]
    },
    {
      "cell_type": "markdown",
      "metadata": {
        "id": "W6UXP8yzghjo"
      },
      "source": [
        "2D and 3D NumPy Arrays\n",
        "\n",
        "NumPy arrays can be of any number of dimensions. To create a 2D NumPy array, we can use the np.zeros() or np.ones() functions. The np.zeros() function creates an array of zeros, while the np.ones() function creates an array of ones."
      ]
    },
    {
      "cell_type": "code",
      "execution_count": null,
      "metadata": {
        "id": "cQTmk-5Bgefp"
      },
      "outputs": [],
      "source": [
        "# Create a 2D NumPy array of zeros\n",
        "two_d_array = np.zeros((3, 2))\n",
        "\n",
        "# Print the 2D NumPy array\n",
        "print(two_d_array)\n"
      ]
    },
    {
      "cell_type": "markdown",
      "metadata": {
        "id": "hi9UmAPPgm9Q"
      },
      "source": [
        "To create a 3D NumPy array, we can use the same approach.\n"
      ]
    },
    {
      "cell_type": "code",
      "execution_count": null,
      "metadata": {
        "id": "TO6qHInJgmp-"
      },
      "outputs": [],
      "source": [
        "# Create a 3D NumPy array of ones\n",
        "three_d_array = np.ones((2, 3, 4))\n",
        "\n",
        "# Print the 3D NumPy array\n",
        "print(three_d_array)\n"
      ]
    },
    {
      "cell_type": "markdown",
      "metadata": {
        "id": "1cnKbhlLndIU"
      },
      "source": [
        "To calculate the mean row-wise, we pass axis=0 to the np.mean() function. This tells NumPy to calculate the mean of each row in the matrix."
      ]
    },
    {
      "cell_type": "code",
      "execution_count": null,
      "metadata": {
        "id": "lHhTj9BOne4K"
      },
      "outputs": [],
      "source": [
        "import numpy as np\n",
        "\n",
        "# Create a matrix\n",
        "matrix = np.array([[1, 2, 3], [4, 5, 6], [7, 8, 9]])\n",
        "\n",
        "# Calculate the mean row-wise\n",
        "row_means = np.mean(matrix, axis=0)\n",
        "\n",
        "# Print the row-wise means\n",
        "print(row_means)\n"
      ]
    },
    {
      "cell_type": "markdown",
      "metadata": {
        "id": "duIwAoXRnilY"
      },
      "source": [
        "## **Do It Yourself 7:**\n",
        "    Calculate the mean of a matrix column-wise.\n",
        "    The size of matrix should be atleast 3x3\n",
        "    *(hint: look how the axis parameter works in numpy)"
      ]
    },
    {
      "cell_type": "code",
      "execution_count": null,
      "metadata": {
        "id": "4ftCGMqkn8ap"
      },
      "outputs": [],
      "source": []
    },
    {
      "cell_type": "markdown",
      "metadata": {
        "id": "GR-86pW0gtt3"
      },
      "source": [
        "Slicing NumPy Arrays\n",
        "\n",
        "NumPy arrays can be sliced using the same syntax as Python lists. To slice a NumPy array, we can use the [:] operator."
      ]
    },
    {
      "cell_type": "code",
      "execution_count": null,
      "metadata": {
        "id": "fBHTF6HhguOk"
      },
      "outputs": [],
      "source": [
        "# Slice the 2D NumPy array to get the first row\n",
        "first_row = two_d_array[0, :]\n",
        "\n",
        "# Print the first row\n",
        "print(first_row)\n"
      ]
    },
    {
      "cell_type": "markdown",
      "metadata": {
        "id": "2qLsGTL-g4aa"
      },
      "source": [
        "NumPy Dot Product\n",
        "\n",
        "The NumPy dot product is a function that calculates the dot product of two NumPy arrays. The dot product of two vectors is a scalar that is equal to the sum of the products of the corresponding elements of the two vectors."
      ]
    },
    {
      "cell_type": "code",
      "execution_count": null,
      "metadata": {
        "id": "BmieTEE0g6Zv"
      },
      "outputs": [],
      "source": [
        "# Calculate the dot product of two 1D NumPy arrays\n",
        "vector_1 = np.array([1, 2, 3])\n",
        "vector_2 = np.array([4, 5, 6])\n",
        "\n",
        "dot_product = np.dot(vector_1, vector_2)\n",
        "\n",
        "# Print the dot product\n",
        "print(dot_product)\n"
      ]
    },
    {
      "cell_type": "markdown",
      "metadata": {
        "id": "JXMZA1qbg593"
      },
      "source": [
        "## **Do It Yourself 8:**\n",
        "    Write a function in which user is asked to enter the number of rows and columns for two matrices.\n",
        "    Now, make two matrices of random numbers and perform dot product on these matrices.\n",
        "    Each matrix should be of atleast 5x5 size.\n",
        "    In order to make array of random numbers you should search on your own\n",
        "    to find the function which can be used to achieve this task.\n",
        "    (Also add the link to the website from where you learned about this function)."
      ]
    },
    {
      "cell_type": "code",
      "execution_count": null,
      "metadata": {
        "id": "Xm4idUK4h6r1"
      },
      "outputs": [],
      "source": []
    },
    {
      "cell_type": "markdown",
      "metadata": {
        "id": "5Q0EkjLei8d7"
      },
      "source": [
        "## **Do It Yourself 9:**\n",
        "## **np.matmul()**\n",
        "Designed specifically for matrix multiplication. It is more efficient than np.dot() for large matrices, and it supports a wider range of features, such as complex number multiplication, etc.\n",
        "\n",
        "Now, we will see how fast the np.matmul is as comapred to np.dot function.\n",
        "\n",
        "*You just need to run the cell below and do not change anything. This cell might take some time to run completely so wait unti it completes. Also attach its output in the PDF file of your submission."
      ]
    },
    {
      "cell_type": "code",
      "execution_count": null,
      "metadata": {
        "id": "Zmjp1VvyjOjU"
      },
      "outputs": [],
      "source": [
        "import numpy as np\n",
        "import timeit\n",
        "\n",
        "def matmul_profile():\n",
        "  # Create two large matrices\n",
        "  matrix_1 = np.random.rand(1000, 1000)\n",
        "  matrix_2 = np.random.rand(1000, 1000)\n",
        "\n",
        "  # Calculate the matrix multiplication using np.matmul()\n",
        "  matmul_result = np.matmul(matrix_1, matrix_2)\n",
        "\n",
        "def dot_profile():\n",
        "  # Create two large matrices\n",
        "  matrix_1 = np.random.rand(1000, 1000)\n",
        "  matrix_2 = np.random.rand(1000, 1000)\n",
        "\n",
        "  # Calculate the matrix multiplication using np.dot()\n",
        "  dot_result = np.dot(matrix_1, matrix_2)\n",
        "\n",
        "# Time the matmul() function\n",
        "matmul_time = timeit.timeit(matmul_profile, number=1)\n",
        "\n",
        "# Time the dot() function\n",
        "dot_time = timeit.timeit(dot_profile, number=1)\n",
        "\n",
        "# Print the results\n",
        "print('Matmul time:', matmul_time)\n",
        "print('Dot time:', dot_time)\n"
      ]
    }
  ],
  "metadata": {
    "colab": {
      "provenance": [],
      "include_colab_link": true
    },
    "kernelspec": {
      "display_name": "Python 3",
      "name": "python3"
    },
    "language_info": {
      "name": "python"
    }
  },
  "nbformat": 4,
  "nbformat_minor": 0
}